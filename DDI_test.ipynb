{
 "cells": [
  {
   "cell_type": "code",
   "execution_count": 1,
   "metadata": {},
   "outputs": [],
   "source": [
    "import networkx as nx\n",
    "import heapq as hq\n",
    "from copy import deepcopy\n",
    "\n",
    "# For some reason pylance doesn't like these imports, but they work fine\n",
    "import KnowledgeGraph as kg  # type: ignore\n",
    "import ConceptNode as cn  # type: ignore\n",
    "from MultiDistance import MultiDistance, multimin, sum_pareto_distance  # type: ignore"
   ]
  },
  {
   "cell_type": "code",
   "execution_count": 2,
   "metadata": {},
   "outputs": [],
   "source": [
    "G0=nx.read_gpickle('Sample DDI networks/net-ddi-bnu-tau.gpickle')\n",
    "G1=nx.read_gpickle('Sample DDI networks/net-ddi-cat-tau.gpickle')\n",
    "G2=nx.read_gpickle('Sample DDI networks/net-ddi-indy-tau.gpickle')\n",
    "Layers = {'BNU':G0,'CAT':G1,'IND':G2}"
   ]
  },
  {
   "cell_type": "code",
   "execution_count": 3,
   "metadata": {},
   "outputs": [
    {
     "data": {
      "text/plain": [
       "True"
      ]
     },
     "execution_count": 3,
     "metadata": {},
     "output_type": "execute_result"
    }
   ],
   "source": [
    "all_nodes = set([*list(G0.nodes()),*list(G1.nodes()),*list(G2.nodes())])\n",
    "\n",
    "for node in all_nodes:\n",
    "    for G in Layers.values():\n",
    "        if node not in G.nodes():\n",
    "            G.add_node(node)\n",
    "\n",
    "set(Layers['BNU'].nodes())==set(Layers['CAT'].nodes())==set(Layers['IND'].nodes())"
   ]
  },
  {
   "cell_type": "code",
   "execution_count": 4,
   "metadata": {},
   "outputs": [
    {
     "name": "stdout",
     "output_type": "stream",
     "text": [
      "len(all_nodes)=381\n",
      "Layers[\"BNU\"].number_of_edges()=146\n",
      "Layers[\"CAT\"].number_of_edges()=708\n",
      "Layers[\"IND\"].number_of_edges()=776\n",
      "total edges=1630\n"
     ]
    }
   ],
   "source": [
    "print(f'{len(all_nodes)=}')\n",
    "print(f'{Layers[\"BNU\"].number_of_edges()=}')\n",
    "print(f'{Layers[\"CAT\"].number_of_edges()=}')\n",
    "print(f'{Layers[\"IND\"].number_of_edges()=}')\n",
    "print(f'total edges={Layers[\"BNU\"].number_of_edges()+Layers[\"CAT\"].number_of_edges()+Layers[\"IND\"].number_of_edges()}')\n"
   ]
  },
  {
   "cell_type": "code",
   "execution_count": 5,
   "metadata": {},
   "outputs": [],
   "source": [
    "KG = kg.KnowledgeGraph(Layers)"
   ]
  },
  {
   "cell_type": "code",
   "execution_count": 6,
   "metadata": {},
   "outputs": [],
   "source": [
    "from multiprocessing import Pool\n",
    "import mp_for_nb\n",
    "\n",
    "\n",
    "arglist = mp_for_nb.make_arglist(KG,'BNU')\n",
    "\n",
    "with Pool() as pool:\n",
    "    results = pool.imap_unordered(mp_for_nb.appd_cut,arglist)\n",
    "    APPD = list(results)\n",
    "    \n",
    "closure = {k[0]: {vk[0]: vv for vk, vv in v.items()} for k, v in APPD}\n",
    "\n",
    "removed_edges_mp = KG.pareto_backbone_removed_edges(closure=closure)"
   ]
  },
  {
   "cell_type": "code",
   "execution_count": 7,
   "metadata": {},
   "outputs": [],
   "source": [
    "removed_edges = KG.pareto_backbone_removed_edges(depth_cut=2)"
   ]
  },
  {
   "cell_type": "code",
   "execution_count": 8,
   "metadata": {},
   "outputs": [
    {
     "name": "stdout",
     "output_type": "stream",
     "text": [
      "{(('DB01026', 'CAT'), ('DB00635', 'CAT')), (('DB01167', 'CAT'), ('DB00635', 'CAT')), (('DB01367', 'CAT'), ('DB01242', 'CAT')), (('DB01045', 'CAT'), ('DB01234', 'CAT')), (('DB01367', 'CAT'), ('DB00715', 'CAT')), (('DB01060', 'CAT'), ('DB00254', 'CAT')), (('DB00227', 'CAT'), ('DB00682', 'CAT')), (('DB01242', 'CAT'), ('DB01367', 'CAT')), (('DB01076', 'CAT'), ('DB00564', 'CAT')), (('DB01174', 'BNU'), ('DB00682', 'BNU')), (('DB00864', 'CAT'), ('DB01167', 'CAT')), (('DB01104', 'CAT'), ('DB00252', 'CAT')), (('DB00953', 'CAT'), ('DB00320', 'CAT')), (('DB00252', 'CAT'), ('DB00404', 'CAT')), (('DB00682', 'CAT'), ('DB00564', 'CAT')), (('DB01394', 'CAT'), ('DB01211', 'CAT')), (('DB00252', 'CAT'), ('DB01104', 'CAT')), (('DB00641', 'CAT'), ('DB00091', 'CAT')), (('DB00682', 'BNU'), ('DB01174', 'BNU')), (('DB00564', 'CAT'), ('DB01418', 'CAT')), (('DB01367', 'CAT'), ('DB00476', 'CAT')), (('DB01167', 'CAT'), ('DB00959', 'CAT')), (('DB00959', 'CAT'), ('DB01167', 'CAT')), (('DB01167', 'CAT'), ('DB01211', 'CAT')), (('DB00476', 'CAT'), ('DB01367', 'CAT')), (('DB00338', 'CAT'), ('DB00252', 'CAT')), (('DB00252', 'CAT'), ('DB00472', 'CAT')), (('DB00091', 'CAT'), ('DB00196', 'CAT')), (('DB01418', 'CAT'), ('DB00215', 'CAT')), (('DB01045', 'IND'), ('DB01211', 'IND')), (('DB00635', 'CAT'), ('DB01167', 'CAT')), (('DB00472', 'CAT'), ('DB00252', 'CAT')), (('DB00759', 'CAT'), ('DB01060', 'CAT')), (('DB00959', 'CAT'), ('DB00199', 'CAT')), (('DB01118', 'CAT'), ('DB00252', 'CAT')), (('DB00218', 'CAT'), ('DB00199', 'CAT')), (('DB00715', 'CAT'), ('DB01367', 'CAT')), (('DB01211', 'CAT'), ('DB01045', 'CAT')), (('DB01418', 'CAT'), ('DB00472', 'CAT')), (('DB00196', 'CAT'), ('DB01045', 'CAT')), (('DB00864', 'CAT'), ('DB00196', 'CAT')), (('DB01211', 'CAT'), ('DB00864', 'CAT')), (('DB00783', 'BNU'), ('DB01174', 'BNU')), (('DB00199', 'CAT'), ('DB00218', 'CAT')), (('DB00199', 'CAT'), ('DB00959', 'CAT')), (('DB00196', 'CAT'), ('DB00482', 'CAT')), (('DB00196', 'CAT'), ('DB00864', 'CAT')), (('DB00564', 'CAT'), ('DB00682', 'CAT')), (('DB00199', 'CAT'), ('DB01137', 'CAT')), (('DB01418', 'CAT'), ('DB00564', 'CAT')), (('DB00252', 'CAT'), ('DB00338', 'CAT')), (('DB01147', 'CAT'), ('DB00254', 'CAT')), (('DB01321', 'CAT'), ('DB00218', 'CAT')), (('DB01321', 'CAT'), ('DB01137', 'CAT')), (('DB00472', 'CAT'), ('DB01418', 'CAT')), (('DB00959', 'CAT'), ('DB01211', 'CAT')), (('DB00254', 'CAT'), ('DB01147', 'CAT')), (('DB00277', 'CAT'), ('DB01211', 'CAT')), (('DB01147', 'CAT'), ('DB01017', 'CAT')), (('DB01174', 'BNU'), ('DB01223', 'BNU')), (('DB00252', 'CAT'), ('DB01118', 'CAT')), (('DB01211', 'CAT'), ('DB01167', 'CAT')), (('DB00482', 'CAT'), ('DB00196', 'CAT')), (('DB00404', 'CAT'), ('DB00252', 'CAT')), (('DB00215', 'CAT'), ('DB01418', 'CAT')), (('DB01167', 'CAT'), ('DB00864', 'CAT')), (('DB00564', 'CAT'), ('DB00641', 'CAT')), (('DB00196', 'CAT'), ('DB00502', 'CAT')), (('DB01060', 'CAT'), ('DB00759', 'CAT')), (('DB01045', 'CAT'), ('DB00196', 'CAT')), (('DB00641', 'CAT'), ('DB00564', 'CAT')), (('DB00682', 'CAT'), ('DB00227', 'CAT')), (('DB00320', 'CAT'), ('DB00953', 'CAT')), (('DB01211', 'CAT'), ('DB00277', 'CAT')), (('DB00254', 'CAT'), ('DB01060', 'CAT')), (('DB01045', 'CAT'), ('DB01211', 'CAT')), (('DB00912', 'CAT'), ('DB00091', 'CAT')), (('DB00254', 'IND'), ('DB00766', 'IND')), (('DB01211', 'IND'), ('DB01045', 'IND')), (('DB00766', 'IND'), ('DB00254', 'IND')), (('DB00254', 'CAT'), ('DB01045', 'CAT')), (('DB00199', 'CAT'), ('DB01167', 'CAT')), (('DB00502', 'CAT'), ('DB00196', 'CAT')), (('DB00682', 'CAT'), ('DB00215', 'CAT')), (('DB01174', 'BNU'), ('DB00783', 'BNU')), (('DB01137', 'CAT'), ('DB00199', 'CAT')), (('DB01045', 'CAT'), ('DB00254', 'CAT')), (('DB01211', 'CAT'), ('DB01394', 'CAT')), (('DB00196', 'CAT'), ('DB00091', 'CAT')), (('DB01167', 'CAT'), ('DB00199', 'CAT')), (('DB01211', 'CAT'), ('DB00959', 'CAT')), (('DB01017', 'CAT'), ('DB01147', 'CAT')), (('DB01234', 'CAT'), ('DB01045', 'CAT')), (('DB00091', 'CAT'), ('DB00641', 'CAT')), (('DB00215', 'CAT'), ('DB00682', 'CAT')), (('DB01137', 'CAT'), ('DB01321', 'CAT'))}\n",
      "----\n",
      "set()\n"
     ]
    }
   ],
   "source": [
    "print(removed_edges_mp)\n",
    "print(\"----\")\n",
    "print(removed_edges)"
   ]
  },
  {
   "cell_type": "code",
   "execution_count": 9,
   "metadata": {},
   "outputs": [],
   "source": [
    "import distanceclosure as dc"
   ]
  },
  {
   "cell_type": "code",
   "execution_count": 10,
   "metadata": {},
   "outputs": [
    {
     "name": "stdout",
     "output_type": "stream",
     "text": [
      "146\n",
      "146\n",
      "292\n"
     ]
    }
   ],
   "source": [
    "print(G0.number_of_edges())\n",
    "print(len(G0.edges()))\n",
    "print(nx.DiGraph(G0).number_of_edges())"
   ]
  },
  {
   "cell_type": "code",
   "execution_count": 13,
   "metadata": {},
   "outputs": [
    {
     "ename": "SyntaxError",
     "evalue": "Missing parentheses in call to 'print'. Did you mean print(...)? (distance.py, line 135)",
     "output_type": "error",
     "traceback": [
      "Traceback \u001b[1;36m(most recent call last)\u001b[0m:\n",
      "\u001b[0m  File \u001b[0;32m~\\AppData\\Roaming\\Python\\Python310\\site-packages\\IPython\\core\\interactiveshell.py:3378\u001b[0m in \u001b[0;35mrun_code\u001b[0m\n    exec(code_obj, self.user_global_ns, self.user_ns)\u001b[0m\n",
      "\u001b[1;36m  Cell \u001b[1;32mIn [13], line 1\u001b[1;36m\n\u001b[1;33m    from distanceclosure import distance as dc\u001b[1;36m\n",
      "\u001b[1;36m  File \u001b[1;32mc:\\Users\\jcroz\\AppData\\Local\\Programs\\Python\\Python310\\lib\\site-packages\\distanceclosure\\distance.py:135\u001b[1;36m\u001b[0m\n\u001b[1;33m    print 'calc row:',i,'of',m-1\u001b[0m\n\u001b[1;37m    ^\u001b[0m\n\u001b[1;31mSyntaxError\u001b[0m\u001b[1;31m:\u001b[0m Missing parentheses in call to 'print'. Did you mean print(...)?\n"
     ]
    }
   ],
   "source": [
    "BB0=dc.distance_closure(G0,only_backbone=True)\n",
    "BB1=dc.distance_closure(G1,only_backbone=True)\n",
    "BB2=dc.distance_closure(G2,only_backbone=True)\n",
    "\n",
    "removed_edges_BB = []\n",
    "for BB,L in zip( [BB0,BB1,BB2], ['BNU','CAT','IND']):\n",
    "    for u,v,d in list(BB.edges(data=True)):\n",
    "        if not d['is_trig']:\n",
    "            removed_edges_BB.append(((u,L),(v,L)))\n",
    "            BB.remove_edge(u,v)\n"
   ]
  },
  {
   "cell_type": "code",
   "execution_count": null,
   "metadata": {},
   "outputs": [
    {
     "name": "stdout",
     "output_type": "stream",
     "text": [
      "{(('DB00857', 'CAT'), ('DB00514', 'CAT')), (('DB00514', 'CAT'), ('DB00857', 'CAT'))}\n",
      "set()\n",
      "53.0\n",
      "52.0\n"
     ]
    }
   ],
   "source": [
    "sre = set(removed_edges | set((v,u) for u,v in removed_edges))\n",
    "sreBB = set(removed_edges_BB+[(v,u) for u,v in removed_edges_BB])\n",
    "print(sreBB-sre)\n",
    "print(sre-sreBB)\n",
    "print(len(sreBB)/2)\n",
    "print(len(sre)/2)"
   ]
  },
  {
   "cell_type": "code",
   "execution_count": null,
   "metadata": {},
   "outputs": [],
   "source": [
    "LayersBB = {'BNU':BB0,'CAT':BB1,'IND':BB2}"
   ]
  },
  {
   "cell_type": "code",
   "execution_count": null,
   "metadata": {},
   "outputs": [],
   "source": [
    "all_nodesBB = set([*list(BB0.nodes()),*list(BB1.nodes()),*list(BB2.nodes())])"
   ]
  },
  {
   "cell_type": "code",
   "execution_count": null,
   "metadata": {},
   "outputs": [
    {
     "data": {
      "text/plain": [
       "True"
      ]
     },
     "execution_count": 14,
     "metadata": {},
     "output_type": "execute_result"
    }
   ],
   "source": [
    "for node in all_nodesBB:\n",
    "    for G in LayersBB.values():\n",
    "        if node not in G.nodes():\n",
    "            G.add_node(node)\n",
    "\n",
    "set(LayersBB['BNU'].nodes())==set(LayersBB['CAT'].nodes())==set(LayersBB['IND'].nodes())"
   ]
  },
  {
   "cell_type": "code",
   "execution_count": null,
   "metadata": {},
   "outputs": [
    {
     "name": "stdout",
     "output_type": "stream",
     "text": [
      "len(all_nodesBB)=381\n",
      "len(LayersBB[\"BNU\"].edges())=143\n",
      "len(LayersBB[\"CAT\"].edges())=660\n",
      "len(LayersBB[\"IND\"].edges())=774\n",
      "len(LayersBB[\"BNU\"].edges())+len(LayersBB[\"CAT\"].edges())+len(LayersBB[\"IND\"].edges())=1577\n"
     ]
    }
   ],
   "source": [
    "print(f'{len(all_nodesBB)=}')\n",
    "print(f'{len(LayersBB[\"BNU\"].edges())=}')\n",
    "print(f'{len(LayersBB[\"CAT\"].edges())=}')\n",
    "print(f'{len(LayersBB[\"IND\"].edges())=}')\n",
    "print(f'{len(LayersBB[\"BNU\"].edges())+len(LayersBB[\"CAT\"].edges())+len(LayersBB[\"IND\"].edges())=}')\n"
   ]
  },
  {
   "cell_type": "code",
   "execution_count": null,
   "metadata": {},
   "outputs": [],
   "source": [
    "KGBB = kg.KnowledgeGraph(LayersBB)"
   ]
  },
  {
   "cell_type": "code",
   "execution_count": null,
   "metadata": {},
   "outputs": [],
   "source": [
    "cBB=KGBB.pareto_distance_closure(depth_cut=3,start_layer=\"IND\")"
   ]
  },
  {
   "cell_type": "code",
   "execution_count": null,
   "metadata": {},
   "outputs": [
    {
     "data": {
      "text/plain": [
       "set()"
      ]
     },
     "execution_count": 18,
     "metadata": {},
     "output_type": "execute_result"
    }
   ],
   "source": [
    "KGBB.pareto_backbone_removed_edges(closure=cBB)"
   ]
  },
  {
   "cell_type": "code",
   "execution_count": null,
   "metadata": {},
   "outputs": [],
   "source": []
  }
 ],
 "metadata": {
  "kernelspec": {
   "display_name": "Python 3.10.5 64-bit",
   "language": "python",
   "name": "python3"
  },
  "language_info": {
   "codemirror_mode": {
    "name": "ipython",
    "version": 3
   },
   "file_extension": ".py",
   "mimetype": "text/x-python",
   "name": "python",
   "nbconvert_exporter": "python",
   "pygments_lexer": "ipython3",
   "version": "3.10.5"
  },
  "orig_nbformat": 4,
  "vscode": {
   "interpreter": {
    "hash": "92699ddff08e083f993a6ba0abfd713346288791271ce85be2f52442db7e1ae9"
   }
  }
 },
 "nbformat": 4,
 "nbformat_minor": 2
}
