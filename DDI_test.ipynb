{
 "cells": [
  {
   "cell_type": "code",
   "execution_count": 1,
   "metadata": {},
   "outputs": [],
   "source": [
    "import networkx as nx\n",
    "import heapq as hq\n",
    "from copy import deepcopy\n",
    "\n",
    "# For some reason pylance doesn't like these imports, but they work fine\n",
    "import KnowledgeGraph as kg  # type: ignore\n",
    "import ConceptNode as cn  # type: ignore\n",
    "from MultiDistance import MultiDistance, multimin, sum_pareto_distance  # type: ignore"
   ]
  },
  {
   "cell_type": "code",
   "execution_count": 2,
   "metadata": {},
   "outputs": [],
   "source": [
    "G0=nx.read_gpickle('Sample DDI networks/net-ddi-bnu-tau.gpickle')\n",
    "G1=nx.read_gpickle('Sample DDI networks/net-ddi-cat-tau.gpickle')\n",
    "G2=nx.read_gpickle('Sample DDI networks/net-ddi-indy-tau.gpickle')\n",
    "Layers = {'BNU':G0,'CAT':G1,'IND':G2}"
   ]
  },
  {
   "cell_type": "code",
   "execution_count": 3,
   "metadata": {},
   "outputs": [
    {
     "data": {
      "text/plain": [
       "True"
      ]
     },
     "execution_count": 3,
     "metadata": {},
     "output_type": "execute_result"
    }
   ],
   "source": [
    "all_nodes = set([*list(G0.nodes()),*list(G1.nodes()),*list(G2.nodes())])\n",
    "\n",
    "for node in all_nodes:\n",
    "    for G in Layers.values():\n",
    "        if node not in G.nodes():\n",
    "            G.add_node(node)\n",
    "\n",
    "set(Layers['BNU'].nodes())==set(Layers['CAT'].nodes())==set(Layers['IND'].nodes())"
   ]
  },
  {
   "cell_type": "code",
   "execution_count": 4,
   "metadata": {},
   "outputs": [
    {
     "name": "stdout",
     "output_type": "stream",
     "text": [
      "len(all_nodes)=381\n",
      "len(Layers[\"BNU\"].edges())=146\n",
      "len(Layers[\"CAT\"].edges())=708\n",
      "len(Layers[\"IND\"].edges())=776\n",
      "len(Layers[\"BNU\"].edges())+len(Layers[\"CAT\"].edges())+len(Layers[\"IND\"].edges())=1630\n"
     ]
    }
   ],
   "source": [
    "print(f'{len(all_nodes)=}')\n",
    "print(f'{len(Layers[\"BNU\"].edges())=}')\n",
    "print(f'{len(Layers[\"CAT\"].edges())=}')\n",
    "print(f'{len(Layers[\"IND\"].edges())=}')\n",
    "print(f'{len(Layers[\"BNU\"].edges())+len(Layers[\"CAT\"].edges())+len(Layers[\"IND\"].edges())=}')\n"
   ]
  },
  {
   "cell_type": "code",
   "execution_count": 5,
   "metadata": {},
   "outputs": [],
   "source": [
    "KG = kg.KnowledgeGraph(Layers)"
   ]
  },
  {
   "cell_type": "code",
   "execution_count": 6,
   "metadata": {},
   "outputs": [],
   "source": [
    "removed_edges = KG.pareto_backbone_removed_edges(depth_cut=3)"
   ]
  },
  {
   "cell_type": "code",
   "execution_count": 7,
   "metadata": {},
   "outputs": [
    {
     "name": "stdout",
     "output_type": "stream",
     "text": [
      "50\n"
     ]
    }
   ],
   "source": [
    "print(len(removed_edges))"
   ]
  },
  {
   "cell_type": "code",
   "execution_count": 8,
   "metadata": {},
   "outputs": [],
   "source": [
    "import distanceclosure as dc"
   ]
  },
  {
   "cell_type": "code",
   "execution_count": 9,
   "metadata": {},
   "outputs": [
    {
     "name": "stdout",
     "output_type": "stream",
     "text": [
      "146\n"
     ]
    },
    {
     "data": {
      "text/plain": [
       "292"
      ]
     },
     "execution_count": 9,
     "metadata": {},
     "output_type": "execute_result"
    }
   ],
   "source": [
    "print(G0.number_of_edges())\n",
    "nx.DiGraph(G0).number_of_edges()"
   ]
  },
  {
   "cell_type": "code",
   "execution_count": 10,
   "metadata": {},
   "outputs": [],
   "source": [
    "BB0=dc.distance_closure(G0,only_backbone=True)\n",
    "BB1=dc.distance_closure(G1,only_backbone=True)\n",
    "BB2=dc.distance_closure(G2,only_backbone=True)"
   ]
  },
  {
   "cell_type": "code",
   "execution_count": 11,
   "metadata": {},
   "outputs": [],
   "source": [
    "for BB in [BB0,BB1,BB2]:\n",
    "    for u,v,d in list(BB.edges(data=True)):\n",
    "        if not d['is_trig']:\n",
    "            BB.remove_edge(u,v)"
   ]
  },
  {
   "cell_type": "code",
   "execution_count": 12,
   "metadata": {},
   "outputs": [],
   "source": [
    "LayersBB = {'BNU':BB0,'CAT':BB1,'IND':BB2}"
   ]
  },
  {
   "cell_type": "code",
   "execution_count": 13,
   "metadata": {},
   "outputs": [],
   "source": [
    "all_nodesBB = set([*list(BB0.nodes()),*list(BB1.nodes()),*list(BB2.nodes())])"
   ]
  },
  {
   "cell_type": "code",
   "execution_count": 14,
   "metadata": {},
   "outputs": [
    {
     "data": {
      "text/plain": [
       "True"
      ]
     },
     "execution_count": 14,
     "metadata": {},
     "output_type": "execute_result"
    }
   ],
   "source": [
    "for node in all_nodesBB:\n",
    "    for G in LayersBB.values():\n",
    "        if node not in G.nodes():\n",
    "            G.add_node(node)\n",
    "\n",
    "set(LayersBB['BNU'].nodes())==set(LayersBB['CAT'].nodes())==set(LayersBB['IND'].nodes())"
   ]
  },
  {
   "cell_type": "code",
   "execution_count": 15,
   "metadata": {},
   "outputs": [
    {
     "name": "stdout",
     "output_type": "stream",
     "text": [
      "len(all_nodesBB)=381\n",
      "len(LayersBB[\"BNU\"].edges())=143\n",
      "len(LayersBB[\"CAT\"].edges())=660\n",
      "len(LayersBB[\"IND\"].edges())=774\n",
      "len(LayersBB[\"BNU\"].edges())+len(LayersBB[\"CAT\"].edges())+len(LayersBB[\"IND\"].edges())=1577\n"
     ]
    }
   ],
   "source": [
    "print(f'{len(all_nodesBB)=}')\n",
    "print(f'{len(LayersBB[\"BNU\"].edges())=}')\n",
    "print(f'{len(LayersBB[\"CAT\"].edges())=}')\n",
    "print(f'{len(LayersBB[\"IND\"].edges())=}')\n",
    "print(f'{len(LayersBB[\"BNU\"].edges())+len(LayersBB[\"CAT\"].edges())+len(LayersBB[\"IND\"].edges())=}')\n"
   ]
  },
  {
   "cell_type": "code",
   "execution_count": 16,
   "metadata": {},
   "outputs": [],
   "source": [
    "KGBB = kg.KnowledgeGraph(LayersBB)"
   ]
  },
  {
   "cell_type": "code",
   "execution_count": 17,
   "metadata": {},
   "outputs": [],
   "source": [
    "cBB=KGBB.pareto_distance_closure(depth_cut=3,start_layer=\"IND\")"
   ]
  },
  {
   "cell_type": "code",
   "execution_count": 18,
   "metadata": {},
   "outputs": [
    {
     "data": {
      "text/plain": [
       "set()"
      ]
     },
     "execution_count": 18,
     "metadata": {},
     "output_type": "execute_result"
    }
   ],
   "source": [
    "KGBB.pareto_backbone_removed_edges(closure=cBB)"
   ]
  },
  {
   "cell_type": "code",
   "execution_count": null,
   "metadata": {},
   "outputs": [],
   "source": []
  }
 ],
 "metadata": {
  "kernelspec": {
   "display_name": "Python 3.10.6 64-bit",
   "language": "python",
   "name": "python3"
  },
  "language_info": {
   "codemirror_mode": {
    "name": "ipython",
    "version": 3
   },
   "file_extension": ".py",
   "mimetype": "text/x-python",
   "name": "python",
   "nbconvert_exporter": "python",
   "pygments_lexer": "ipython3",
   "version": "3.10.6"
  },
  "orig_nbformat": 4,
  "vscode": {
   "interpreter": {
    "hash": "916dbcbb3f70747c44a77c7bcd40155683ae19c65e1c03b4aa3499c5328201f1"
   }
  }
 },
 "nbformat": 4,
 "nbformat_minor": 2
}
