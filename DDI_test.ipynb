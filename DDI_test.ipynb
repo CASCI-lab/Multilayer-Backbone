{
 "cells": [
  {
   "cell_type": "code",
   "execution_count": 1,
   "metadata": {},
   "outputs": [],
   "source": [
    "import networkx as nx\n",
    "import heapq as hq\n",
    "from copy import deepcopy\n",
    "\n",
    "import distanceclosure as dc\n",
    "\n",
    "# For some reason pylance doesn't like these imports, but they work fine\n",
    "import KnowledgeGraph as kg  # type: ignore\n",
    "import ConceptNode as cn  # type: ignore\n",
    "from MultiDistance import MultiDistance, multimin, sum_pareto_distance  # type: ignore\n",
    "\n",
    "from multiprocessing import Pool\n",
    "import mp_for_nb\n",
    "\n",
    "import pickle"
   ]
  },
  {
   "cell_type": "code",
   "execution_count": 2,
   "metadata": {},
   "outputs": [],
   "source": [
    "G0=nx.read_gpickle('Sample DDI networks/net-ddi-bnu-tau.gpickle')\n",
    "G1=nx.read_gpickle('Sample DDI networks/net-ddi-cat-tau.gpickle')\n",
    "G2=nx.read_gpickle('Sample DDI networks/net-ddi-indy-tau.gpickle')\n",
    "Layers = {'BNU':G0,'CAT':G1,'IND':G2}"
   ]
  },
  {
   "cell_type": "code",
   "execution_count": 3,
   "metadata": {},
   "outputs": [
    {
     "data": {
      "text/plain": [
       "True"
      ]
     },
     "execution_count": 3,
     "metadata": {},
     "output_type": "execute_result"
    }
   ],
   "source": [
    "all_nodes = set([*list(G0.nodes()),*list(G1.nodes()),*list(G2.nodes())])\n",
    "\n",
    "for node in all_nodes:\n",
    "    for G in Layers.values():\n",
    "        if node not in G.nodes():\n",
    "            G.add_node(node)\n",
    "\n",
    "set(Layers['BNU'].nodes())==set(Layers['CAT'].nodes())==set(Layers['IND'].nodes())"
   ]
  },
  {
   "cell_type": "code",
   "execution_count": 46,
   "metadata": {},
   "outputs": [
    {
     "name": "stdout",
     "output_type": "stream",
     "text": [
      "len(all_nodes)=381\n",
      "Layers[\"BNU\"].number_of_edges()=146\n",
      "Layers[\"CAT\"].number_of_edges()=708\n",
      "Layers[\"IND\"].number_of_edges()=776\n",
      "total_edges=1630\n"
     ]
    }
   ],
   "source": [
    "print(f'{len(all_nodes)=}')\n",
    "print(f'{Layers[\"BNU\"].number_of_edges()=}')\n",
    "print(f'{Layers[\"CAT\"].number_of_edges()=}')\n",
    "print(f'{Layers[\"IND\"].number_of_edges()=}')\n",
    "\n",
    "all_edges = set()\n",
    "for L,G in Layers.items():\n",
    "    all_edges |= set(((u,L),(v,L)) for u,v in G.edges()) \n",
    "    all_edges |= set(((v,L),(u,L)) for u,v in G.edges())\n",
    "total_edges = len(all_edges)//2\n",
    "print(f'{total_edges=}')\n"
   ]
  },
  {
   "cell_type": "code",
   "execution_count": 5,
   "metadata": {},
   "outputs": [],
   "source": [
    "KG = kg.KnowledgeGraph(Layers)"
   ]
  },
  {
   "cell_type": "code",
   "execution_count": 6,
   "metadata": {},
   "outputs": [],
   "source": [
    "REBUILD_CLOSURE = False\n",
    "if REBUILD_CLOSURE:\n",
    "    arglist = mp_for_nb.make_arglist(KG,'BNU',cut=7)\n",
    "\n",
    "    with Pool() as pool:\n",
    "        results = pool.imap_unordered(mp_for_nb.appd_cut,arglist)\n",
    "        APPD = list(results)\n",
    "        \n",
    "    closure = {k[0]: {vk[0]: vv for vk, vv in v.items()} for k, v in APPD}\n",
    "    pickle.dump(closure, f, protocol=pickle.HIGHEST_PROTOCOL)\n",
    "else:\n",
    "    with open(\"DDI_MultiClosure.pickle\", \"rb\") as f:\n",
    "        closure = pickle.load(f)\n",
    "\n",
    "removed_edges_mp = KG.pareto_backbone_removed_edges(closure=closure)"
   ]
  },
  {
   "cell_type": "code",
   "execution_count": 7,
   "metadata": {},
   "outputs": [],
   "source": [
    "BB0=dc.distance_closure(G0,only_backbone=True)\n",
    "BB1=dc.distance_closure(G1,only_backbone=True)\n",
    "BB2=dc.distance_closure(G2,only_backbone=True)\n",
    "\n",
    "removed_edges_BB = []\n",
    "for BB,L in zip( [BB0,BB1,BB2], ['BNU','CAT','IND']):\n",
    "    for u,v,d in list(BB.edges(data=True)):\n",
    "        if not d['is_trig']:\n",
    "            removed_edges_BB.append(((u,L),(v,L)))\n",
    "            BB.remove_edge(u,v)\n"
   ]
  },
  {
   "cell_type": "code",
   "execution_count": 8,
   "metadata": {},
   "outputs": [
    {
     "name": "stdout",
     "output_type": "stream",
     "text": [
      "set()\n",
      "set()\n",
      "53.0\n",
      "53.0\n"
     ]
    }
   ],
   "source": [
    "sre = set(removed_edges_mp | set((v,u) for u,v in removed_edges_mp))\n",
    "sreBB = set(removed_edges_BB+[(v,u) for u,v in removed_edges_BB])\n",
    "print(sreBB-sre)\n",
    "print(sre-sreBB)\n",
    "print(len(sreBB)/2)\n",
    "print(len(sre)/2)"
   ]
  },
  {
   "cell_type": "code",
   "execution_count": 9,
   "metadata": {},
   "outputs": [],
   "source": [
    "LayersBB = {'BNU':BB0,'CAT':BB1,'IND':BB2}"
   ]
  },
  {
   "cell_type": "code",
   "execution_count": 10,
   "metadata": {},
   "outputs": [],
   "source": [
    "all_nodesBB = set([*list(BB0.nodes()),*list(BB1.nodes()),*list(BB2.nodes())])"
   ]
  },
  {
   "cell_type": "code",
   "execution_count": 11,
   "metadata": {},
   "outputs": [
    {
     "data": {
      "text/plain": [
       "True"
      ]
     },
     "execution_count": 11,
     "metadata": {},
     "output_type": "execute_result"
    }
   ],
   "source": [
    "for node in all_nodesBB:\n",
    "    for G in LayersBB.values():\n",
    "        if node not in G.nodes():\n",
    "            G.add_node(node)\n",
    "\n",
    "set(LayersBB['BNU'].nodes())==set(LayersBB['CAT'].nodes())==set(LayersBB['IND'].nodes())"
   ]
  },
  {
   "cell_type": "code",
   "execution_count": 12,
   "metadata": {},
   "outputs": [
    {
     "name": "stdout",
     "output_type": "stream",
     "text": [
      "len(all_nodesBB)=381\n",
      "len(LayersBB[\"BNU\"].edges())=143\n",
      "len(LayersBB[\"CAT\"].edges())=660\n",
      "len(LayersBB[\"IND\"].edges())=774\n",
      "len(LayersBB[\"BNU\"].edges())+len(LayersBB[\"CAT\"].edges())+len(LayersBB[\"IND\"].edges())=1577\n"
     ]
    }
   ],
   "source": [
    "print(f'{len(all_nodesBB)=}')\n",
    "print(f'{len(LayersBB[\"BNU\"].edges())=}')\n",
    "print(f'{len(LayersBB[\"CAT\"].edges())=}')\n",
    "print(f'{len(LayersBB[\"IND\"].edges())=}')\n",
    "print(f'{len(LayersBB[\"BNU\"].edges())+len(LayersBB[\"CAT\"].edges())+len(LayersBB[\"IND\"].edges())=}')\n"
   ]
  },
  {
   "cell_type": "code",
   "execution_count": 57,
   "metadata": {},
   "outputs": [
    {
     "name": "stdout",
     "output_type": "stream",
     "text": [
      "kept edges (no weights): 1577/1630\n",
      "kept edges (weighted layers): 1028/1630\n"
     ]
    }
   ],
   "source": [
    "layer_weights = {\n",
    "    ('BNU','BNU'):1,\n",
    "    ('CAT','CAT'):1,\n",
    "    ('IND','IND'):1,\n",
    "}\n",
    "remove_edges_weighted = KG.weighted_backbone_removed_edges(\n",
    "    closure = closure,\n",
    "    layer_weights=layer_weights)\n",
    "\n",
    "srew = set(remove_edges_weighted | set((v,u) for u,v in remove_edges_weighted))\n",
    "print(f'kept edges (no weights): {total_edges-len(sre)//2}/{total_edges}')\n",
    "print(f'kept edges (weighted layers): {total_edges-len(srew)//2}/{total_edges}')"
   ]
  },
  {
   "cell_type": "code",
   "execution_count": null,
   "metadata": {},
   "outputs": [],
   "source": []
  }
 ],
 "metadata": {
  "kernelspec": {
   "display_name": "Python 3.10.6 64-bit",
   "language": "python",
   "name": "python3"
  },
  "language_info": {
   "codemirror_mode": {
    "name": "ipython",
    "version": 3
   },
   "file_extension": ".py",
   "mimetype": "text/x-python",
   "name": "python",
   "nbconvert_exporter": "python",
   "pygments_lexer": "ipython3",
   "version": "3.10.6"
  },
  "orig_nbformat": 4,
  "vscode": {
   "interpreter": {
    "hash": "916dbcbb3f70747c44a77c7bcd40155683ae19c65e1c03b4aa3499c5328201f1"
   }
  }
 },
 "nbformat": 4,
 "nbformat_minor": 2
}
