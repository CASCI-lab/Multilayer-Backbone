{
 "cells": [
  {
   "cell_type": "code",
   "execution_count": 1,
   "metadata": {},
   "outputs": [],
   "source": [
    "import graph_collapse as gc\n",
    "import distanceclosure as dc\n",
    "import networkx as nx\n",
    "from itertools import combinations"
   ]
  },
  {
   "cell_type": "code",
   "execution_count": 2,
   "metadata": {},
   "outputs": [],
   "source": [
    "business_graph = nx.read_graphml(\n",
    "    \"data/academic_hiring/raw_data/business/network.graphml\"\n",
    ")\n",
    "computer_science_graph = nx.read_graphml(\n",
    "    \"data/academic_hiring/raw_data/computer_science/network.graphml\"\n",
    ")\n",
    "history_graph = nx.read_graphml(\"data/academic_hiring/raw_data/history/network.graphml\")\n",
    "\n",
    "business_graph = nx.relabel_nodes(\n",
    "    business_graph, {n: d[\"Institution\"] for n, d in business_graph.nodes(data=True)}\n",
    ")\n",
    "computer_science_graph = nx.relabel_nodes(\n",
    "    computer_science_graph,\n",
    "    {n: d[\"Institution\"] for n, d in computer_science_graph.nodes(data=True)},\n",
    ")\n",
    "history_graph = nx.relabel_nodes(\n",
    "    history_graph, {n: d[\"Institution\"] for n, d in history_graph.nodes(data=True)}\n",
    ")\n",
    "\n",
    "hiring_graphs = [business_graph, computer_science_graph, history_graph]\n",
    "hiring_graph_labels = [\"Business\", \"Computer Science\", \"History\"]"
   ]
  },
  {
   "cell_type": "code",
   "execution_count": 3,
   "metadata": {},
   "outputs": [],
   "source": [
    "hiring_network = gc.combine_graphs(\n",
    "    hiring_graphs,\n",
    "    hiring_graph_labels,\n",
    "    identity_edge_weight=0.0,\n",
    "    weight_edge_attribute=\"distance\",\n",
    "    rename_nodes=True,\n",
    ")\n",
    "\n",
    "hiring_backbone = gc.multidistance_backbone(\n",
    "    hiring_network, weight_edge_attribute=\"distance\"\n",
    ")"
   ]
  },
  {
   "cell_type": "code",
   "execution_count": 4,
   "metadata": {},
   "outputs": [
    {
     "name": "stdout",
     "output_type": "stream",
     "text": [
      "Edges: 9387\n",
      "1-layer backbone edges (incl. inter-layer): 4316, mutilayer backbone edges: 4245\n"
     ]
    }
   ],
   "source": [
    "hiring_bb_edges = 0\n",
    "for g in hiring_graphs:\n",
    "    hiring_bb_edges += dc.backbone(g, weight=\"distance\").number_of_edges()\n",
    "for g, h in combinations(hiring_graphs, 2):\n",
    "    hiring_bb_edges += 2 * len(set(g.nodes()) & set(h.nodes()))\n",
    "\n",
    "\n",
    "print(f\"Edges: {hiring_network.number_of_edges()}\")\n",
    "print(\n",
    "    f\"1-layer backbone edges (incl. inter-layer): {hiring_bb_edges}, mutilayer backbone edges: {hiring_backbone.number_of_edges()}\"\n",
    ")"
   ]
  },
  {
   "cell_type": "code",
   "execution_count": 15,
   "metadata": {},
   "outputs": [
    {
     "name": "stdout",
     "output_type": "stream",
     "text": [
      "In flattened multilayer BB, but not in union of BBs:\n",
      "\n",
      "--------------------\n",
      "In union of BBs, but not in flattened multilayer BB:\n",
      "\n",
      "{'NFaculty': 4, 'proximity': 0.03278688524590164, 'distance': 29.5, 'layer': ('Business', 'Business')} Texas A&M Arizona State University\n",
      "{'NFaculty': 1, 'proximity': 0.030303030303030304, 'distance': 32.0, 'layer': ('Computer Science', 'Computer Science')} Rutgers University Case Western Reserve University\n",
      "{'NFaculty': 4, 'proximity': 0.038461538461538464, 'distance': 25.0, 'layer': ('Business', 'Business')} University of Iowa University of Kentucky\n",
      "{'NFaculty': 3, 'proximity': 0.01675977653631285, 'distance': 58.666666666666664, 'layer': ('Business', 'Business')} Ohio State University Iowa State University\n",
      "{'NFaculty': 3, 'proximity': 0.016666666666666666, 'distance': 59.0, 'layer': ('History', 'History')} University of Wisconsin, Madison University of Virginia\n",
      "{'NFaculty': 1, 'proximity': 0.013888888888888888, 'distance': 71.0, 'layer': ('Computer Science', 'Computer Science')} Georgia Tech State University of New York, Stony Brook\n",
      "{'NFaculty': 1, 'proximity': 0.06666666666666667, 'distance': 14.0, 'layer': ('Business', 'Business')} Iowa State University Miami University, Ohio\n",
      "{'NFaculty': 2, 'proximity': 0.058823529411764705, 'distance': 16.0, 'layer': ('Business', 'Business')} University of Arkansas, Fayetteville Oklahoma State University\n",
      "{'NFaculty': 1, 'proximity': 0.023809523809523808, 'distance': 41.0, 'layer': ('Computer Science', 'Computer Science')} Rice University Syracuse University\n",
      "{'NFaculty': 2, 'proximity': 0.018518518518518517, 'distance': 53.0, 'layer': ('History', 'History')} Johns Hopkins University UCLA\n",
      "{'NFaculty': 1, 'proximity': 0.04, 'distance': 24.0, 'layer': ('History', 'History')} UC Davis Cornell University\n",
      "{'NFaculty': 1, 'proximity': 0.029411764705882353, 'distance': 33.0, 'layer': ('Computer Science', 'Computer Science')} Northwestern University Western Michigan University\n",
      "{'NFaculty': 1, 'proximity': 0.029411764705882353, 'distance': 33.0, 'layer': ('Business', 'Business')} University of Arkansas, Fayetteville Rochester Institute of Technology\n",
      "{'NFaculty': 2, 'proximity': 0.058823529411764705, 'distance': 16.0, 'layer': ('Business', 'Business')} University of Arkansas, Fayetteville University of Tennessee, Knoxville\n",
      "{'NFaculty': 2, 'proximity': 0.01639344262295082, 'distance': 60.0, 'layer': ('Business', 'Business')} Texas A&M University of Arizona\n",
      "{'NFaculty': 2, 'proximity': 0.012121212121212121, 'distance': 81.5, 'layer': ('Business', 'Business')} Michigan State University University of Michigan\n",
      "{'NFaculty': 1, 'proximity': 0.045454545454545456, 'distance': 21.0, 'layer': ('Computer Science', 'Computer Science')} UC Santa Barbara Kansas State University\n",
      "{'NFaculty': 2, 'proximity': 0.015625, 'distance': 63.0, 'layer': ('History', 'History')} University of Pennsylvania George Washington University\n",
      "{'NFaculty': 1, 'proximity': 0.021739130434782608, 'distance': 45.0, 'layer': ('Computer Science', 'Computer Science')} State University of New York, Stony Brook Cornell University\n",
      "{'NFaculty': 1, 'proximity': 0.015625, 'distance': 63.0, 'layer': ('Computer Science', 'Computer Science')} University of Waterloo MIT\n",
      "{'NFaculty': 1, 'proximity': 0.015873015873015872, 'distance': 62.0, 'layer': ('Computer Science', 'Computer Science')} University of Minnesota, Minneapolis Cornell University\n",
      "{'NFaculty': 1, 'proximity': 0.025, 'distance': 39.0, 'layer': ('Computer Science', 'Computer Science')} University of North Carolina, Chapel Hill Case Western Reserve University\n",
      "{'NFaculty': 1, 'proximity': 0.023809523809523808, 'distance': 41.0, 'layer': ('Computer Science', 'Computer Science')} Rice University Vanderbilt University\n",
      "{'NFaculty': 1, 'proximity': 0.05, 'distance': 19.0, 'layer': ('Computer Science', 'Computer Science')} Iowa State University University of Texas, El Paso\n",
      "{'NFaculty': 1, 'proximity': 0.015873015873015872, 'distance': 62.0, 'layer': ('Computer Science', 'Computer Science')} University of Minnesota, Minneapolis MIT\n",
      "{'NFaculty': 1, 'proximity': 0.05, 'distance': 19.0, 'layer': ('Computer Science', 'Computer Science')} Iowa State University North Dakota State University\n",
      "{'NFaculty': 2, 'proximity': 0.012195121951219513, 'distance': 81.0, 'layer': ('Computer Science', 'Computer Science')} University of Illinois, Urbana Champaign University of Chicago\n",
      "{'NFaculty': 1, 'proximity': 0.029411764705882353, 'distance': 33.0, 'layer': ('Business', 'Business')} University of Arkansas, Fayetteville University of Cincinnati\n",
      "{'NFaculty': 1, 'proximity': 0.05, 'distance': 19.0, 'layer': ('Computer Science', 'Computer Science')} Iowa State University Texas Tech University\n",
      "{'NFaculty': 2, 'proximity': 0.013793103448275862, 'distance': 71.5, 'layer': ('Computer Science', 'Computer Science')} University of Toronto University of Rochester\n",
      "{'NFaculty': 1, 'proximity': 0.025, 'distance': 39.0, 'layer': ('Computer Science', 'Computer Science')} University of North Carolina, Chapel Hill Wayne State University\n",
      "{'NFaculty': 1, 'proximity': 0.023255813953488372, 'distance': 42.0, 'layer': ('History', 'History')} University of Illinois, Urbana Champaign Stanford University\n",
      "{'NFaculty': 8, 'proximity': 0.013333333333333334, 'distance': 74.0, 'layer': ('Computer Science', 'Computer Science')} All others Cornell University\n",
      "{'NFaculty': 1, 'proximity': 0.05555555555555555, 'distance': 17.0, 'layer': ('Computer Science', 'Computer Science')} University of Central Florida University of Arkansas, Fayetteville\n",
      "{'NFaculty': 1, 'proximity': 0.025, 'distance': 39.0, 'layer': ('Computer Science', 'Computer Science')} University of North Carolina, Chapel Hill Stanford University\n",
      "{'NFaculty': 3, 'proximity': 0.15, 'distance': 5.666666666666667, 'layer': ('Computer Science', 'Computer Science')} Iowa State University University of North Texas, Denton\n",
      "{'NFaculty': 1, 'proximity': 0.02857142857142857, 'distance': 34.0, 'layer': ('History', 'History')} UC San Diego Temple University\n",
      "{'NFaculty': 1, 'proximity': 0.021739130434782608, 'distance': 45.0, 'layer': ('Computer Science', 'Computer Science')} State University of New York, Stony Brook Stanford University\n",
      "{'NFaculty': 1, 'proximity': 0.023809523809523808, 'distance': 41.0, 'layer': ('Computer Science', 'Computer Science')} Rice University Northeastern University\n",
      "{'NFaculty': 1, 'proximity': 0.038461538461538464, 'distance': 25.0, 'layer': ('Business', 'Business')} University of Texas, Dallas Miami University, Ohio\n",
      "{'NFaculty': 3, 'proximity': 0.0125, 'distance': 79.0, 'layer': ('History', 'History')} University of Chicago Stanford University\n",
      "{'NFaculty': 6, 'proximity': 0.01, 'distance': 99.0, 'layer': ('Computer Science', 'Computer Science')} All others MIT\n",
      "{'NFaculty': 2, 'proximity': 0.058823529411764705, 'distance': 16.0, 'layer': ('Business', 'Business')} University of Arkansas, Fayetteville University of Minnesota, Minneapolis\n",
      "{'NFaculty': 1, 'proximity': 0.05, 'distance': 19.0, 'layer': ('Computer Science', 'Computer Science')} Iowa State University Georgia State University\n",
      "{'NFaculty': 2, 'proximity': 0.022988505747126436, 'distance': 42.5, 'layer': ('Computer Science', 'Computer Science')} University of Wisconsin, Madison Cornell University\n",
      "{'NFaculty': 3, 'proximity': 0.01675977653631285, 'distance': 58.666666666666664, 'layer': ('Business', 'Business')} Ohio State University Oklahoma State University\n",
      "{'NFaculty': 3, 'proximity': 0.017341040462427744, 'distance': 56.66666666666667, 'layer': ('History', 'History')} University of Michigan Stanford University\n",
      "{'NFaculty': 2, 'proximity': 0.015625, 'distance': 63.0, 'layer': ('History', 'History')} University of Pennsylvania University of Washington\n",
      "{'NFaculty': 1, 'proximity': 0.037037037037037035, 'distance': 26.0, 'layer': ('Business', 'Business')} University of Kansas, Lawrence University of Kentucky\n",
      "{'NFaculty': 1, 'proximity': 0.02631578947368421, 'distance': 37.0, 'layer': ('Computer Science', 'Computer Science')} UC San Diego University of Victoria\n",
      "{'NFaculty': 1, 'proximity': 0.043478260869565216, 'distance': 22.0, 'layer': ('Computer Science', 'Computer Science')} Indiana University Northeastern University\n",
      "{'NFaculty': 1, 'proximity': 0.027777777777777776, 'distance': 35.0, 'layer': ('Business', 'Business')} University of Utah University of Cincinnati\n",
      "{'NFaculty': 1, 'proximity': 0.029411764705882353, 'distance': 33.0, 'layer': ('Business', 'Business')} University of Arkansas, Fayetteville University of Kentucky\n",
      "{'NFaculty': 1, 'proximity': 0.024390243902439025, 'distance': 40.0, 'layer': ('History', 'History')} Ohio State University University of Mississippi\n",
      "{'NFaculty': 1, 'proximity': 0.023809523809523808, 'distance': 41.0, 'layer': ('Computer Science', 'Computer Science')} Rice University MIT\n",
      "{'NFaculty': 1, 'proximity': 0.027777777777777776, 'distance': 35.0, 'layer': ('Business', 'Business')} University of Utah Pepperdine University\n",
      "{'NFaculty': 1, 'proximity': 0.037037037037037035, 'distance': 26.0, 'layer': ('Business', 'Business')} University of Kansas, Lawrence Miami University, Ohio\n",
      "{'NFaculty': 1, 'proximity': 0.02040816326530612, 'distance': 48.00000000000001, 'layer': ('Computer Science', 'Computer Science')} University of Southern California University of Maryland, College Park\n",
      "{'NFaculty': 1, 'proximity': 0.01818181818181818, 'distance': 54.0, 'layer': ('Business', 'Business')} Georgia Tech Northwestern University\n",
      "{'NFaculty': 1, 'proximity': 0.025, 'distance': 39.0, 'layer': ('Computer Science', 'Computer Science')} University of North Carolina, Chapel Hill University of Texas, Dallas\n",
      "{'NFaculty': 3, 'proximity': 0.02459016393442623, 'distance': 39.666666666666664, 'layer': ('Business', 'Business')} Texas A&M University of Kentucky\n",
      "{'NFaculty': 1, 'proximity': 0.015625, 'distance': 63.0, 'layer': ('Computer Science', 'Computer Science')} University of Waterloo Stanford University\n",
      "{'NFaculty': 3, 'proximity': 0.01764705882352941, 'distance': 55.666666666666664, 'layer': ('Business', 'Business')} Cornell University Miami University, Ohio\n",
      "{'NFaculty': 1, 'proximity': 0.03125, 'distance': 31.0, 'layer': ('Business', 'Business')} University of Oregon Oklahoma State University\n"
     ]
    }
   ],
   "source": [
    "hiring_backbone_flat = gc.flatten_multigraph(\n",
    "    hiring_backbone, weight_edge_attribute=\"distance\", trim_layer_suffix=True\n",
    ")\n",
    "\n",
    "hiring_backbone_union_flat = gc.flatten_multigraph(\n",
    "    gc.combine_graphs(\n",
    "        [dc.backbone(g, weight=\"distance\") for g in hiring_graphs],\n",
    "        hiring_graph_labels,\n",
    "        identity_edge_weight=0.0,\n",
    "        weight_edge_attribute=\"distance\",\n",
    "        rename_nodes=True,\n",
    "    ),\n",
    "    weight_edge_attribute=\"distance\",\n",
    "    trim_layer_suffix=True,\n",
    ")\n",
    "print(\"In flattened multilayer BB, but not in union of BBs:\\n\")\n",
    "for u, v in set(hiring_backbone_flat.edges()) - set(hiring_backbone_union_flat.edges()):\n",
    "    print(hiring_backbone_flat.edges[(u, v)], u, v)\n",
    "print(\"-\" * 20)\n",
    "print(\"In union of BBs, but not in flattened multilayer BB:\\n\")\n",
    "for u, v in set(hiring_backbone_union_flat.edges()) - set(hiring_backbone_flat.edges()):\n",
    "    print(hiring_backbone_union_flat.edges[(u, v)], u, v)"
   ]
  },
  {
   "cell_type": "code",
   "execution_count": 16,
   "metadata": {},
   "outputs": [],
   "source": [
    "calls_graph = nx.read_graphml(\"data/colombia_bilayer/raw_data/calls/network.graphml\")\n",
    "mobility_graph = nx.read_graphml(\n",
    "    \"data/colombia_bilayer/raw_data/mobility/network.graphml\"\n",
    ")\n",
    "\n",
    "colombia_graphs = [calls_graph, mobility_graph]\n",
    "colombia_graph_labels = [\"Calls\", \"Mobility\"]"
   ]
  },
  {
   "cell_type": "code",
   "execution_count": 17,
   "metadata": {},
   "outputs": [],
   "source": [
    "colombia_network = gc.combine_graphs(\n",
    "    colombia_graphs,\n",
    "    colombia_graph_labels,\n",
    "    identity_edge_weight=0.0,\n",
    "    weight_edge_attribute=\"distance\",\n",
    "    rename_nodes=True,\n",
    ")\n",
    "\n",
    "colombia_backbone = gc.multidistance_backbone(\n",
    "    colombia_network, weight_edge_attribute=\"distance\"\n",
    ")"
   ]
  },
  {
   "cell_type": "code",
   "execution_count": 18,
   "metadata": {},
   "outputs": [
    {
     "name": "stdout",
     "output_type": "stream",
     "text": [
      "Edges: 614067\n",
      "1-layer backbone edges (incl. inter-layer): 16104, mutilayer backbone edges: 16104\n"
     ]
    }
   ],
   "source": [
    "colombia_bb_edges = 0\n",
    "for g in colombia_graphs:\n",
    "    colombia_bb_edges += dc.backbone(g, weight=\"distance\").number_of_edges()\n",
    "for g, h in combinations(colombia_graphs, 2):\n",
    "    colombia_bb_edges += 2 * len(set(g.nodes()) & set(h.nodes()))\n",
    "\n",
    "print(f\"Edges: {colombia_network.number_of_edges()}\")\n",
    "print(\n",
    "    f\"1-layer backbone edges (incl. inter-layer): {colombia_bb_edges}, mutilayer backbone edges: {colombia_backbone.number_of_edges()}\"\n",
    ")"
   ]
  },
  {
   "cell_type": "code",
   "execution_count": 19,
   "metadata": {},
   "outputs": [
    {
     "name": "stdout",
     "output_type": "stream",
     "text": [
      "In flattened multilayer BB, but not in union of BBs:\n",
      "\n",
      "--------------------\n",
      "In union of BBs, but not in flattened multilayer BB:\n",
      "\n"
     ]
    }
   ],
   "source": [
    "colombia_backbone_flat = gc.flatten_multigraph(\n",
    "    colombia_backbone, weight_edge_attribute=\"distance\", trim_layer_suffix=True\n",
    ")\n",
    "\n",
    "colombia_backbone_union_flat = gc.flatten_multigraph(\n",
    "    gc.combine_graphs(\n",
    "        [dc.backbone(g, weight=\"distance\") for g in colombia_graphs],\n",
    "        colombia_graph_labels,\n",
    "        identity_edge_weight=0.0,\n",
    "        weight_edge_attribute=\"distance\",\n",
    "        rename_nodes=True,\n",
    "    ),\n",
    "    weight_edge_attribute=\"distance\",\n",
    "    trim_layer_suffix=True,\n",
    ")\n",
    "print(\"In flattened multilayer BB, but not in union of BBs:\\n\")\n",
    "for u, v in set(colombia_backbone_flat.edges()) - set(\n",
    "    colombia_backbone_union_flat.edges()\n",
    "):\n",
    "    print(colombia_backbone_flat.edges[(u, v)], u, v)\n",
    "print(\"-\" * 20)\n",
    "print(\"In union of BBs, but not in flattened multilayer BB:\\n\")\n",
    "for u, v in set(colombia_backbone_union_flat.edges()) - set(\n",
    "    colombia_backbone_flat.edges()\n",
    "):\n",
    "    print(colombia_backbone_union_flat.edges[(u, v)], u, v)"
   ]
  }
 ],
 "metadata": {
  "kernelspec": {
   "display_name": "bbrust-dev",
   "language": "python",
   "name": "python3"
  },
  "language_info": {
   "codemirror_mode": {
    "name": "ipython",
    "version": 3
   },
   "file_extension": ".py",
   "mimetype": "text/x-python",
   "name": "python",
   "nbconvert_exporter": "python",
   "pygments_lexer": "ipython3",
   "version": "3.11.3"
  }
 },
 "nbformat": 4,
 "nbformat_minor": 2
}
