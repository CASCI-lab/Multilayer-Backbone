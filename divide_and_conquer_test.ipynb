{
 "cells": [
  {
   "cell_type": "code",
   "execution_count": 1,
   "metadata": {},
   "outputs": [],
   "source": [
    "import graph_collapse as gc\n",
    "import distanceclosure as dc\n",
    "import networkx as nx\n",
    "from itertools import combinations"
   ]
  },
  {
   "cell_type": "code",
   "execution_count": 2,
   "metadata": {},
   "outputs": [],
   "source": [
    "business_graph = nx.read_graphml(\n",
    "    \"data/academic_hiring/raw_data/business/network.graphml\"\n",
    ")\n",
    "computer_science_graph = nx.read_graphml(\n",
    "    \"data/academic_hiring/raw_data/computer_science/network.graphml\"\n",
    ")\n",
    "history_graph = nx.read_graphml(\"data/academic_hiring/raw_data/history/network.graphml\")\n",
    "\n",
    "business_graph = nx.relabel_nodes(\n",
    "    business_graph, {n: d[\"Institution\"] for n, d in business_graph.nodes(data=True)}\n",
    ")\n",
    "computer_science_graph = nx.relabel_nodes(\n",
    "    computer_science_graph,\n",
    "    {n: d[\"Institution\"] for n, d in computer_science_graph.nodes(data=True)},\n",
    ")\n",
    "history_graph = nx.relabel_nodes(\n",
    "    history_graph, {n: d[\"Institution\"] for n, d in history_graph.nodes(data=True)}\n",
    ")\n",
    "\n",
    "hiring_graphs = [business_graph, computer_science_graph, history_graph]\n",
    "hiring_graph_labels = [\"Business\", \"Computer Science\", \"History\"]"
   ]
  },
  {
   "cell_type": "code",
   "execution_count": 4,
   "metadata": {},
   "outputs": [],
   "source": [
    "hiring_network = gc.combine_graphs(\n",
    "    hiring_graphs,\n",
    "    hiring_graph_labels,\n",
    "    identity_edge_weight=0.0,\n",
    "    weight_edge_attribute=\"distance\",\n",
    "    rename_nodes=True,\n",
    ")\n",
    "\n",
    "hiring_backbone = gc.multidistance_backbone(\n",
    "    hiring_network, weight_edge_attribute=\"distance\"\n",
    ")"
   ]
  },
  {
   "cell_type": "code",
   "execution_count": 11,
   "metadata": {},
   "outputs": [
    {
     "name": "stdout",
     "output_type": "stream",
     "text": [
      "Edges: 9387\n",
      "1-layer backbone edges (incl. inter-layer): 4316, mutilayer backbone edges: 4245\n"
     ]
    }
   ],
   "source": [
    "hiring_bb_edges = 0\n",
    "for g in hiring_graphs:\n",
    "    hiring_bb_edges += dc.backbone(g, weight=\"distance\").number_of_edges()\n",
    "for g, h in combinations(hiring_graphs, 2):\n",
    "    hiring_bb_edges += 2 * len(set(g.nodes()) & set(h.nodes()))\n",
    "\n",
    "\n",
    "print(f\"Edges: {hiring_network.number_of_edges()}\")\n",
    "print(\n",
    "    f\"1-layer backbone edges (incl. inter-layer): {hiring_bb_edges}, mutilayer backbone edges: {hiring_backbone.number_of_edges()}\"\n",
    ")"
   ]
  },
  {
   "cell_type": "code",
   "execution_count": 17,
   "metadata": {},
   "outputs": [],
   "source": [
    "calls_graph = nx.read_graphml(\"data/colombia_bilayer/raw_data/calls/network.graphml\")\n",
    "mobility_graph = nx.read_graphml(\n",
    "    \"data/colombia_bilayer/raw_data/mobility/network.graphml\"\n",
    ")\n",
    "\n",
    "colombia_graphs = [calls_graph, mobility_graph]\n",
    "colombia_graph_labels = [\"Calls\", \"Mobility\"]"
   ]
  },
  {
   "cell_type": "code",
   "execution_count": 18,
   "metadata": {},
   "outputs": [],
   "source": [
    "colombia_network = gc.combine_graphs(\n",
    "    colombia_graphs,\n",
    "    colombia_graph_labels,\n",
    "    identity_edge_weight=0.0,\n",
    "    weight_edge_attribute=\"distance\",\n",
    "    rename_nodes=True,\n",
    ")\n",
    "\n",
    "colombia_backbone = gc.multidistance_backbone(\n",
    "    colombia_network, weight_edge_attribute=\"distance\"\n",
    ")"
   ]
  },
  {
   "cell_type": "code",
   "execution_count": 19,
   "metadata": {},
   "outputs": [
    {
     "name": "stdout",
     "output_type": "stream",
     "text": [
      "Edges: 614067\n",
      "1-layer backbone edges (incl. inter-layer): 16104, mutilayer backbone edges: 16104\n"
     ]
    }
   ],
   "source": [
    "colombia_bb_edges = 0\n",
    "for g in colombia_graphs:\n",
    "    colombia_bb_edges += dc.backbone(g, weight=\"distance\").number_of_edges()\n",
    "for g, h in combinations(colombia_graphs, 2):\n",
    "    colombia_bb_edges += 2 * len(set(g.nodes()) & set(h.nodes()))\n",
    "\n",
    "print(f\"Edges: {colombia_network.number_of_edges()}\")\n",
    "print(\n",
    "    f\"1-layer backbone edges (incl. inter-layer): {colombia_bb_edges}, mutilayer backbone edges: {colombia_backbone.number_of_edges()}\"\n",
    ")"
   ]
  }
 ],
 "metadata": {
  "kernelspec": {
   "display_name": "bbrust-dev",
   "language": "python",
   "name": "python3"
  },
  "language_info": {
   "codemirror_mode": {
    "name": "ipython",
    "version": 3
   },
   "file_extension": ".py",
   "mimetype": "text/x-python",
   "name": "python",
   "nbconvert_exporter": "python",
   "pygments_lexer": "ipython3",
   "version": "3.11.3"
  }
 },
 "nbformat": 4,
 "nbformat_minor": 2
}
