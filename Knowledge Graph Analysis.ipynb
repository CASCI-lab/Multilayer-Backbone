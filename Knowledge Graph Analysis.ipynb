{
 "cells": [
  {
   "cell_type": "code",
   "execution_count": 16,
   "metadata": {},
   "outputs": [],
   "source": [
    "import networkx as nx\n",
    "\n",
    "import KnowledgeGraph as kg  # type: ignore\n",
    "\n",
    "from multiprocessing import Pool\n",
    "import mp_for_nb\n",
    "\n",
    "\n",
    "import pickle"
   ]
  },
  {
   "cell_type": "code",
   "execution_count": 2,
   "metadata": {},
   "outputs": [],
   "source": [
    "drug_terms=set([\n",
    "    \"lacosamide\",\n",
    "    \"fluoxetine\",\n",
    "    \"calcium\",\n",
    "    \"zolpidem\",\n",
    "    \"cannabis\",\n",
    "    \"hydroxyzine\",\n",
    "    \"pregabalin\",\n",
    "    \"sumatriptan\",\n",
    "    \"estradiol\",\n",
    "    \"vagal nerve stimulator implantation\",\n",
    "    \"citalopram\",\n",
    "    \"prazosin\",\n",
    "    \"gabapentin\",\n",
    "    \"olanzapine\",\n",
    "    \"ethosuximide\",\n",
    "    \"dextroamphetamine\",\n",
    "    \"valproic acid\",\n",
    "    \"escitalopram\",\n",
    "    \"levetiracetam\",\n",
    "    \"bisoprolol\",\n",
    "    \"alprazolam\",\n",
    "    \"propranolol\",\n",
    "    \"tiagabine\",\n",
    "    \"fluvoxamine\",\n",
    "    \"trazodone\",\n",
    "    \"duloxetine\",\n",
    "    \"folic acid\",\n",
    "    \"amitriptyline\",\n",
    "    \"cenobamate\",\n",
    "    \"cbd\",\n",
    "    \"phenobarbital\",\n",
    "    \"diazepam\",\n",
    "    \"verapamil\",\n",
    "    \"levonorgestrel\",\n",
    "    \"chlordiazepoxide\",\n",
    "    \"sertraline\",\n",
    "    \"vigabatrin\",\n",
    "    \"venlafaxine\",\n",
    "    \"eslicarbazepine acetate\",\n",
    "    \"lisdexamfetamine\",\n",
    "    \"acetazolamide\",\n",
    "    \"lamotrigine\",\n",
    "    \"primidone\",\n",
    "    \"aripiprazole\",\n",
    "    \"oxcarbazepine\",\n",
    "    \"clobazam\",\n",
    "    \"carbamazepine\",\n",
    "    \"quetiapine\",\n",
    "    \"lorazepam\",\n",
    "    \"diltiazem\",\n",
    "    \"perampanel\",\n",
    "    \"sulthiame\",\n",
    "    \"buspirone\",\n",
    "    \"nortriptyline\",\n",
    "    \"brivaracetam\",\n",
    "    \"caffeine\",\n",
    "    \"zonisamide\",\n",
    "    \"phenytoin\",\n",
    "    \"bupropion\",\n",
    "    \"topiramate\",\n",
    "    \"clonazepam\",\n",
    "])"
   ]
  },
  {
   "cell_type": "code",
   "execution_count": 3,
   "metadata": {},
   "outputs": [
    {
     "name": "stdout",
     "output_type": "stream",
     "text": [
      "total_edges=1503\n"
     ]
    }
   ],
   "source": [
    "G_EFF = nx.read_graphml('Sample Epilepsy Graphs/04-efwebsite-forums-network-20180706-samepost_all_users.graphml')\n",
    "G_TWI = nx.read_graphml('Sample Epilepsy Graphs/04-twitter-epilepsy-network-20180706-samepost-all-users.graphml')\n",
    "G_INS = nx.read_graphml('Sample Epilepsy Graphs/04-instagram-epilepsy-network-20180706-samepost-all-users.graphml')\n",
    "G_RED = nx.read_graphml('Sample Epilepsy Graphs/reddit_network.graphml')\n",
    "\n",
    "Layers = {\n",
    "    'EFF' : G_EFF,\n",
    "    'Twitter' : G_TWI,\n",
    "    'Instagram' : G_INS,\n",
    "    'Reddit' : G_RED,\n",
    "    }\n",
    "\n",
    "all_nodes = {x:d for G in Layers.values() for x,d in G.nodes(data=True)}\n",
    "\n",
    "for node,data in all_nodes.items():\n",
    "    for G in Layers.values():\n",
    "        if node not in G.nodes():\n",
    "            G.add_nodes_from([(node,data)])\n",
    "        if data['parent'].lower() not in drug_terms:\n",
    "            G.remove_node(node)\n",
    "            \n",
    "all_edges = set()\n",
    "for L,G in Layers.items():\n",
    "    all_edges |= set(((u,L),(v,L)) for u,v in G.edges()) \n",
    "    all_edges |= set(((v,L),(u,L)) for u,v in G.edges())\n",
    "total_edges = len(all_edges)//2\n",
    "print(f'{total_edges=}')"
   ]
  },
  {
   "cell_type": "code",
   "execution_count": 4,
   "metadata": {},
   "outputs": [],
   "source": [
    "KG = kg.KnowledgeGraph(Layers)"
   ]
  },
  {
   "cell_type": "code",
   "execution_count": 7,
   "metadata": {},
   "outputs": [],
   "source": [
    "def appd(arg):\n",
    "    G = arg[0]\n",
    "    n = arg[1]\n",
    "    c = arg[2]\n",
    "    return n.id, G.pareto_shortest_distances(n,depth_cut=c,weight='proximity')"
   ]
  },
  {
   "cell_type": "code",
   "execution_count": 8,
   "metadata": {},
   "outputs": [],
   "source": [
    "arglist = mp_for_nb.make_arglist(KG,'EFF',cut=7)\n",
    "\n",
    "with Pool() as pool:\n",
    "    results = pool.imap_unordered(appd,arglist)\n",
    "    APPD = list(results)\n",
    "        \n",
    "closure = {k[0]: {vk[0]: vv for vk, vv in v.items()} for k, v in APPD}\n"
   ]
  },
  {
   "cell_type": "code",
   "execution_count": 17,
   "metadata": {},
   "outputs": [],
   "source": [
    "with open(\"Epilepsy_MultiClosure.pickle\", \"wb\") as f:\n",
    "        pickle.dump(closure, f, protocol=pickle.HIGHEST_PROTOCOL)"
   ]
  },
  {
   "cell_type": "code",
   "execution_count": 10,
   "metadata": {},
   "outputs": [
    {
     "data": {
      "text/plain": [
       "57"
      ]
     },
     "execution_count": 10,
     "metadata": {},
     "output_type": "execute_result"
    }
   ],
   "source": [
    "len(closure)"
   ]
  },
  {
   "cell_type": "code",
   "execution_count": 12,
   "metadata": {},
   "outputs": [],
   "source": [
    "removed_edges_mp = KG.pareto_backbone_removed_edges(closure=closure,weight='proximity')"
   ]
  },
  {
   "cell_type": "code",
   "execution_count": 15,
   "metadata": {},
   "outputs": [
    {
     "name": "stdout",
     "output_type": "stream",
     "text": [
      "1041\n"
     ]
    }
   ],
   "source": [
    "sre = set(removed_edges_mp | set((v,u) for u,v in removed_edges_mp))\n",
    "print(len(sre)//2)"
   ]
  },
  {
   "cell_type": "code",
   "execution_count": null,
   "metadata": {},
   "outputs": [],
   "source": []
  }
 ],
 "metadata": {
  "kernelspec": {
   "display_name": "Python 3.10.6 64-bit",
   "language": "python",
   "name": "python3"
  },
  "language_info": {
   "codemirror_mode": {
    "name": "ipython",
    "version": 3
   },
   "file_extension": ".py",
   "mimetype": "text/x-python",
   "name": "python",
   "nbconvert_exporter": "python",
   "pygments_lexer": "ipython3",
   "version": "3.10.6"
  },
  "orig_nbformat": 4,
  "vscode": {
   "interpreter": {
    "hash": "916dbcbb3f70747c44a77c7bcd40155683ae19c65e1c03b4aa3499c5328201f1"
   }
  }
 },
 "nbformat": 4,
 "nbformat_minor": 2
}
